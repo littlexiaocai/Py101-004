{
 "cells": [
  {
   "cell_type": "markdown",
   "metadata": {},
   "source": [
    "### 程序实现思路\n",
    "1.遵循MVP原则，用一个很小的文件，验证将文件存储为字典的功能\n",
    "\n",
    "2.将此功能应用到实际的文件，写成一个函数\n",
    "\n",
    "3.搭建程序的逻辑框架\n",
    "\n",
    "### 程序实现过程中的知识点\n",
    "\n",
    "#### 点操作顺序\n",
    "在程序中需要一个操作将回车符号去掉，于是我连用了两个点操作，但是不确定执行顺序是从左到右，还是从右到左。"
   ]
  },
  {
   "cell_type": "code",
   "execution_count": 6,
   "metadata": {},
   "outputs": [
    {
     "name": "stdout",
     "output_type": "stream",
     "text": [
      "晴\n"
     ]
    }
   ],
   "source": [
    "def weather_dict_change():\n",
    "    with open(\"weather_info.txt\") as f:\n",
    "        line = f.readline()\n",
    "        print(line.strip('\\n').split(\",\")[1])  \n",
    "weather_dict_change()"
   ]
  },
  {
   "cell_type": "markdown",
   "metadata": {},
   "source": [
    "上面这段代码无论从左到右执行，还是从右到左执行，都可以说的通，为了验证执行顺序，我故意调换了下顺序。"
   ]
  },
  {
   "cell_type": "code",
   "execution_count": 7,
   "metadata": {},
   "outputs": [
    {
     "ename": "AttributeError",
     "evalue": "'list' object has no attribute 'strip'",
     "output_type": "error",
     "traceback": [
      "\u001b[0;31m---------------------------------------------------------------------------\u001b[0m",
      "\u001b[0;31mAttributeError\u001b[0m                            Traceback (most recent call last)",
      "\u001b[0;32m<ipython-input-7-e3c1a3c86557>\u001b[0m in \u001b[0;36m<module>\u001b[0;34m()\u001b[0m\n\u001b[1;32m      4\u001b[0m         \u001b[0mline\u001b[0m \u001b[0;34m=\u001b[0m \u001b[0mf\u001b[0m\u001b[0;34m.\u001b[0m\u001b[0mreadline\u001b[0m\u001b[0;34m(\u001b[0m\u001b[0;34m)\u001b[0m\u001b[0;34m\u001b[0m\u001b[0m\n\u001b[1;32m      5\u001b[0m         \u001b[0mprint\u001b[0m\u001b[0;34m(\u001b[0m\u001b[0mline\u001b[0m\u001b[0;34m.\u001b[0m\u001b[0msplit\u001b[0m\u001b[0;34m(\u001b[0m\u001b[0;34m\",\"\u001b[0m\u001b[0;34m)\u001b[0m\u001b[0;34m.\u001b[0m\u001b[0mstrip\u001b[0m\u001b[0;34m(\u001b[0m\u001b[0;34m'\\n'\u001b[0m\u001b[0;34m)\u001b[0m\u001b[0;34m[\u001b[0m\u001b[0;36m1\u001b[0m\u001b[0;34m]\u001b[0m\u001b[0;34m)\u001b[0m\u001b[0;34m\u001b[0m\u001b[0m\n\u001b[0;32m----> 6\u001b[0;31m \u001b[0mweather_dict_change\u001b[0m\u001b[0;34m(\u001b[0m\u001b[0;34m)\u001b[0m\u001b[0;34m\u001b[0m\u001b[0m\n\u001b[0m",
      "\u001b[0;32m<ipython-input-7-e3c1a3c86557>\u001b[0m in \u001b[0;36mweather_dict_change\u001b[0;34m()\u001b[0m\n\u001b[1;32m      3\u001b[0m         \u001b[0mweather_dict\u001b[0m \u001b[0;34m=\u001b[0m \u001b[0;34m{\u001b[0m\u001b[0;34m}\u001b[0m\u001b[0;34m\u001b[0m\u001b[0m\n\u001b[1;32m      4\u001b[0m         \u001b[0mline\u001b[0m \u001b[0;34m=\u001b[0m \u001b[0mf\u001b[0m\u001b[0;34m.\u001b[0m\u001b[0mreadline\u001b[0m\u001b[0;34m(\u001b[0m\u001b[0;34m)\u001b[0m\u001b[0;34m\u001b[0m\u001b[0m\n\u001b[0;32m----> 5\u001b[0;31m         \u001b[0mprint\u001b[0m\u001b[0;34m(\u001b[0m\u001b[0mline\u001b[0m\u001b[0;34m.\u001b[0m\u001b[0msplit\u001b[0m\u001b[0;34m(\u001b[0m\u001b[0;34m\",\"\u001b[0m\u001b[0;34m)\u001b[0m\u001b[0;34m.\u001b[0m\u001b[0mstrip\u001b[0m\u001b[0;34m(\u001b[0m\u001b[0;34m'\\n'\u001b[0m\u001b[0;34m)\u001b[0m\u001b[0;34m[\u001b[0m\u001b[0;36m1\u001b[0m\u001b[0;34m]\u001b[0m\u001b[0;34m)\u001b[0m\u001b[0;34m\u001b[0m\u001b[0m\n\u001b[0m\u001b[1;32m      6\u001b[0m \u001b[0mweather_dict_change\u001b[0m\u001b[0;34m(\u001b[0m\u001b[0;34m)\u001b[0m\u001b[0;34m\u001b[0m\u001b[0m\n",
      "\u001b[0;31mAttributeError\u001b[0m: 'list' object has no attribute 'strip'"
     ]
    }
   ],
   "source": [
    "def weather_dict_change():\n",
    "    with open(\"weather_info.txt\") as f:\n",
    "        weather_dict = {}\n",
    "        line = f.readline()\n",
    "        print(line.split(\",\").strip('\\n')[1])  \n",
    "weather_dict_change()"
   ]
  },
  {
   "cell_type": "markdown",
   "metadata": {},
   "source": [
    "上述代码抱错了，提示list没有strip操作。说明程序是从左到右执行的。"
   ]
  },
  {
   "cell_type": "markdown",
   "metadata": {},
   "source": [
    "#### 列表和字典\n",
    "在思考如何将字符串转换成字典类型时，第一反应是使用列表里的append操作，结果发现字典没有这种操作，我的理解是，列表操作在内存里是顺序存储的，所以有append这种追加操作，但是字典并不是顺序存储的，是根据键值的唯一哈希值存储的，所以没有append操作，而直接采用给键值赋值的操作。"
   ]
  },
  {
   "cell_type": "code",
   "execution_count": 8,
   "metadata": {
    "collapsed": true
   },
   "outputs": [],
   "source": [
    "def weather_dict_change():\n",
    "    with open(\"weather_info.txt\") as f:\n",
    "        weather_dict = {}\n",
    "        for line in f:\n",
    "            weather_dict[line.split(\",\")[0]] = line.strip('\\n').split(\",\")[1]\n",
    "    return weather_dict"
   ]
  },
  {
   "cell_type": "markdown",
   "metadata": {},
   "source": [
    "后来在浏览同学的作业时，发现了一个新的思路，先将字符串转换成列表，然后再将列表转换成字典。"
   ]
  },
  {
   "cell_type": "code",
   "execution_count": 1,
   "metadata": {
    "collapsed": true
   },
   "outputs": [],
   "source": [
    "def weather_dict_change():\n",
    "    with open(\"weather_info.txt\") as f:\n",
    "        weather_dict = {}\n",
    "        lis = [list(x.strip('\\n').split(\",\")) for x in list(f)]\n",
    "        weather_dict = dict(lis) "
   ]
  },
  {
   "cell_type": "markdown",
   "metadata": {},
   "source": [
    "使用了列表推导式，程序变的非常的优雅，这是用列表的一大好处，然后使用dict函数转成字典。dict这个函数将列表和字典打通了，在数据处理时，我们可以先用列表对其进行优雅的操作，然后在需要高效查询数据的时候，再将列表转换成字典操作。"
   ]
  },
  {
   "cell_type": "markdown",
   "metadata": {},
   "source": [
    "在实现历史记录功能的时候，我习惯性的使用了字典类型。"
   ]
  },
  {
   "cell_type": "code",
   "execution_count": null,
   "metadata": {
    "collapsed": true
   },
   "outputs": [],
   "source": [
    "if cmd in weather_dict:\n",
    "    print(\"%s天气状况的天气状况为:%s\"%(cmd,weather_dict[cmd]))\n",
    "    record[cmd] = weather_dict[cmd]\n",
    "elif cmd == \"history\":\n",
    "    for city,weather in record.items():\n",
    "    print(city,weather)"
   ]
  },
  {
   "cell_type": "markdown",
   "metadata": {},
   "source": [
    "而我在浏览同学作业的发现了大部分同学使用的是列表操作，实现的优雅程度两者没有太明显的区别，但是从性能角度考虑，如果历史数据不需要查询功能，使用列表就好了，节省内存，但是如果历史数据要增加查询功能，就使用字典，可以节省查询时间。"
   ]
  },
  {
   "cell_type": "markdown",
   "metadata": {},
   "source": [
    "history_entry = str(f\"{user_search} 的天气状况为 {weather_result}\")\n",
    "history_list.append(history_entry)"
   ]
  },
  {
   "cell_type": "markdown",
   "metadata": {},
   "source": [
    "在浏览同学的笔记后，**因为字典不能存储重复的键值，所以多次的重复查询结果无法记录，所以还必须用列表来存储。"
   ]
  },
  {
   "cell_type": "markdown",
   "metadata": {},
   "source": [
    "#### 如何才算优雅\n",
    "字符串转字典的方法，我的实现方法如下："
   ]
  },
  {
   "cell_type": "code",
   "execution_count": null,
   "metadata": {
    "collapsed": true
   },
   "outputs": [],
   "source": [
    "def weather_dict_change():\n",
    "    with open(\"weather_info.txt\") as f:\n",
    "        weather_dict = {}\n",
    "        for line in f:\n",
    "            weather_dict[line.split(\",\")[0]] = line.strip('\\n').split(\",\")[1]\n",
    "    return weather_dict"
   ]
  },
  {
   "cell_type": "markdown",
   "metadata": {},
   "source": [
    "我看到有的同学实现方式如下，虽然他没有使用点操作，程序函数多了几行，但是其代码完全无需注释，非常容易看懂，到底是程序简单算优雅，还是让人更容易看懂算优雅呢？"
   ]
  },
  {
   "cell_type": "code",
   "execution_count": null,
   "metadata": {
    "collapsed": true
   },
   "outputs": [],
   "source": [
    "with open(filename) as file_object:\n",
    "    for line in file_object:\n",
    "        data_list = line.split(',')\n",
    "        city = data_list[0]\n",
    "        weather = data_list[1]\n",
    "        weather_dict[city] = weather"
   ]
  },
  {
   "cell_type": "markdown",
   "metadata": {},
   "source": []
  }
 ],
 "metadata": {
  "kernelspec": {
   "display_name": "Python 3",
   "language": "python",
   "name": "python3"
  },
  "language_info": {
   "codemirror_mode": {
    "name": "ipython",
    "version": 3
   },
   "file_extension": ".py",
   "mimetype": "text/x-python",
   "name": "python",
   "nbconvert_exporter": "python",
   "pygments_lexer": "ipython3",
   "version": "3.6.1"
  }
 },
 "nbformat": 4,
 "nbformat_minor": 2
}
