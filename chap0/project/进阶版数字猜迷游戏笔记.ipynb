{
 "cells": [
  {
   "cell_type": "markdown",
   "metadata": {},
   "source": [
    "### 程序实现思路\n",
    "1.将程序内部生成的4位数转换成列表；\n",
    "2.将输入的数字转换成列表；\n",
    "3.将两个列表进行比较得出结果；\n",
    "4.猜对或运行10次的逻辑和初级版数字猜谜游戏一致。\n",
    "其中第2和第3点通过编写函数来实现。\n",
    "### 题目中隐藏的逻辑\n",
    "> 用A表示数字和位置都正确，用B表示数字正确但位置错误\n",
    "\n",
    "我开始的代码是这样来解释这段话的"
   ]
  },
  {
   "cell_type": "code",
   "execution_count": null,
   "metadata": {
    "collapsed": true
   },
   "outputs": [],
   "source": [
    "def comparedigit(key,digits):\n",
    "    a = 0\n",
    "    b = 0\n",
    "    for i in range(0,4):\n",
    "        for j in range(0,4):\n",
    "            if key[i] == digits[j]:\n",
    "                if i == j:\n",
    "                    a += 1\n",
    "                    break\n",
    "                else:\n",
    "                    b += 1\n",
    "                    break\n",
    "    print(\"%dA%dB\"%(a,b))     \n",
    "    return (a,b)\n"
   ]
  }
 ],
 "metadata": {
  "kernelspec": {
   "display_name": "Python 3",
   "language": "python",
   "name": "python3"
  },
  "language_info": {
   "codemirror_mode": {
    "name": "ipython",
    "version": 3
   },
   "file_extension": ".py",
   "mimetype": "text/x-python",
   "name": "python",
   "nbconvert_exporter": "python",
   "pygments_lexer": "ipython3",
   "version": "3.6.1"
  }
 },
 "nbformat": 4,
 "nbformat_minor": 2
}
