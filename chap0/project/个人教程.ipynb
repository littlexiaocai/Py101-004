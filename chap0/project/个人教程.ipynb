{
 "cells": [
  {
   "cell_type": "markdown",
   "metadata": {},
   "source": [
    "如果要写给6个月前的自己，我会希望自己尽早思考这么一个问题。\n",
    "\n",
    "### 实现一个功能是花时间去寻找现成的函数还是自己去实现\n",
    "在编写进阶版的猜字谜游戏时，程序需要生成一个4位数随机数，要求首位不为0，并且每位不相同，面对这么一个新功能，我没有选择去寻找可能已经有的现成函数，而是自己去实现了，代码如下所示。"
   ]
  },
  {
   "cell_type": "code",
   "execution_count": null,
   "metadata": {
    "collapsed": true
   },
   "outputs": [],
   "source": [
    "def gener_key():\n",
    "    key =[0,0,0,0]\n",
    "    key[0] = random.randint(1,9)\n",
    "    key[1] = random.randint(0,9)\n",
    "    while key[0]==key[1]:\n",
    "        key[1] = random.randint(0,9)\n",
    "    key[2] = random.randint(0,9)\n",
    "    while (key[0]==key[2]) or (key[1]==key[2]):\n",
    "        key[2] = random.randint(0,9)\n",
    "    key[3] = random.randint(0,9)\n",
    "    while (key[0]==key[3]) or (key[1]==key[3]) or (key[2]==key[3]):\n",
    "        key[3] = random.randint(0,9)\n",
    "\n",
    "    return key"
   ]
  },
  {
   "cell_type": "markdown",
   "metadata": {},
   "source": [
    "为了实现随机生成不重复的4位数，我自己写的函数，通过逐位比较的方式实现，当我写完在看其他同学的作业时，发现了这么一个简单的实现函数，一个函数搞定我8行实现的功能，还及其简单。"
   ]
  },
  {
   "cell_type": "code",
   "execution_count": null,
   "metadata": {
    "collapsed": true
   },
   "outputs": [],
   "source": [
    "random.sample(range(10), 4)"
   ]
  },
  {
   "cell_type": "markdown",
   "metadata": {},
   "source": [
    "进阶版的猜字谜游戏，还需要实现一个功能，将输入的数字分解成列表，我自己实现的代码如下。"
   ]
  },
  {
   "cell_type": "code",
   "execution_count": null,
   "metadata": {
    "collapsed": true
   },
   "outputs": [],
   "source": [
    "def splitdigit(num):\n",
    "    j = 1000\n",
    "    digits = [0,0,0,0]\n",
    "    for i in range(0,4):\n",
    "        digits[i] = int(num/j)\n",
    "        num = num%j\n",
    "        j = j/10 \n",
    "    return digits"
   ]
  },
  {
   "cell_type": "markdown",
   "metadata": {},
   "source": [
    "当我在阅读其他同学的作业时，发现了这么一个极简的函数，可以将输入的字符串转换成列表，代码如下所示。\n"
   ]
  },
  {
   "cell_type": "code",
   "execution_count": null,
   "metadata": {
    "collapsed": true
   },
   "outputs": [],
   "source": [
    "list()"
   ]
  },
  {
   "cell_type": "markdown",
   "metadata": {},
   "source": [
    "### 自己实现函数和寻找现成函数的利弊比较\n",
    "我们都有自己的思维边界，都习惯在自己的边界范围内寻找解决问题的方法，自己实现函数就是典型的边界内解决问题的方式，用这种方式可以很快的解决问题，但是无法拓展自己的思维界限。\n",
    "\n",
    "去寻找现成函数，会花很多时间在前期的寻找上，而且还不一定能找得到，但是只要找到了，就会多获得一项技能，对于以后的编码会方便很多，可以拓展自己编程的思维边界。"
   ]
  }
 ],
 "metadata": {
  "kernelspec": {
   "display_name": "Python 3",
   "language": "python",
   "name": "python3"
  },
  "language_info": {
   "codemirror_mode": {
    "name": "ipython",
    "version": 3
   },
   "file_extension": ".py",
   "mimetype": "text/x-python",
   "name": "python",
   "nbconvert_exporter": "python",
   "pygments_lexer": "ipython3",
   "version": "3.6.1"
  }
 },
 "nbformat": 4,
 "nbformat_minor": 2
}
