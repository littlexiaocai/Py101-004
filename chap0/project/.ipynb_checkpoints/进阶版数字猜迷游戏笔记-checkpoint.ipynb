{
 "cells": [
  {
   "cell_type": "markdown",
   "metadata": {},
   "source": [
    "### 程序实现思路\n",
    "1.将程序内部生成的4位数转换成列表；\n",
    "\n",
    "2.将输入的数字转换成列表；\n",
    "\n",
    "3.将两个列表进行比较得出结果；\n",
    "\n",
    "4.猜对或运行10次的逻辑和初级版数字猜谜游戏一致。\n",
    "\n",
    "其中第2和第3点通过编写函数来实现。\n",
    "\n",
    "### 题目中隐藏的逻辑\n",
    "> 用A表示数字和位置都正确，用B表示数字正确但位置错误\n",
    "\n",
    "我开始写的函数是这样来解释这段话的"
   ]
  },
  {
   "cell_type": "code",
   "execution_count": null,
   "metadata": {
    "collapsed": true
   },
   "outputs": [],
   "source": [
    "def comparedigit(key,digits):\n",
    "    a = 0\n",
    "    b = 0\n",
    "    for i in range(0,4):\n",
    "        for j in range(0,4):\n",
    "            if key[i] == digits[j]:\n",
    "                if i == j:\n",
    "                    a += 1\n",
    "                    break\n",
    "                else:\n",
    "                    b += 1\n",
    "                    break\n",
    "    print(\"%dA%dB\"%(a,b))     \n",
    "    return (a,b)\n"
   ]
  },
  {
   "cell_type": "markdown",
   "metadata": {},
   "source": [
    "当内部生成的答案是1665时，我输入1665，显示的结果尽然是3A1B，问题出在十位数上的6，输入的十位数上的6首先会跟答案百位上的6进行比较，发现数字相同但位置不同，于是误生成了B。\n",
    "\n",
    "题目中隐藏的一个优先级的逻辑是，用A表示数字和位置都正确的优先级比用B表示数字正确但位置错误的优先级要高，修改了优先级后的函数如下所示，程序运行正常。"
   ]
  },
  {
   "cell_type": "code",
   "execution_count": null,
   "metadata": {
    "collapsed": true
   },
   "outputs": [],
   "source": [
    "def comparedigit(key,digits):\n",
    "    a = 0\n",
    "    b = 0\n",
    "    for i in range(0,4):\n",
    "        if key[i] == digits[i]:\n",
    "            a += 1\n",
    "        else:\n",
    "            for j in range(0,4):\n",
    "                if key[i] == digits[j]:\n",
    "                    b += 1\n",
    "                    break\n",
    "    print(\"%dA%dB\"%(a,b))     \n",
    "    return (a,b)\n"
   ]
  },
  {
   "cell_type": "markdown",
   "metadata": {},
   "source": [
    "### 写代码前纠结的一个问题\n",
    "\n",
    "**是多花点时间写一个更通用的程序还是节省时间快点实现功能？\n",
    "\n",
    "比如此题目中，要求随机生成一个4位数字，但是首位不能为0，我想到的最直接的代码是"
   ]
  },
  {
   "cell_type": "code",
   "execution_count": null,
   "metadata": {
    "collapsed": true
   },
   "outputs": [],
   "source": [
    "key = [random.randint(1,9),random.randint(0,9),random.randint(0,9),random.randint(0,9)]\n"
   ]
  },
  {
   "cell_type": "markdown",
   "metadata": {},
   "source": [
    "这么写，最快最直接，但是不通用，如果以后要实现一个5位数或6位数呢，当然，如果多花点时间，可以将这个功能写的更加通用，但是有这个必要吗？\n"
   ]
  }
 ],
 "metadata": {
  "kernelspec": {
   "display_name": "Python 3",
   "language": "python",
   "name": "python3"
  },
  "language_info": {
   "codemirror_mode": {
    "name": "ipython",
    "version": 3
   },
   "file_extension": ".py",
   "mimetype": "text/x-python",
   "name": "python",
   "nbconvert_exporter": "python",
   "pygments_lexer": "ipython3",
   "version": "3.6.1"
  }
 },
 "nbformat": 4,
 "nbformat_minor": 2
}
