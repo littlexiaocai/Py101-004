{
 "cells": [
  {
   "cell_type": "markdown",
   "metadata": {},
   "source": [
    "### 猜字谜游戏说明\n",
    "源文件是guess_num.py\n",
    "1.程序随机生成一个 20 以内的数字，用户有 10 次机会猜测\n",
    "\n",
    "2.用户输入数字，程序判断数字的大小，给予一定的提示\n",
    "\n",
    "3.猜对或用完 10 次机会，游戏结束\n",
    "\n",
    "\n",
    "\n",
    "### 进阶猜字谜游戏说明\n",
    "源文件是guess_num_pro.py\n",
    "1.用户输入4位数字，程序返回相应提示\n",
    "1.用A表示数字和位置都正确，用B表示数字正确但位置错误\n",
    "\n",
    "2.程序返回A和B的数量\n",
    "\n",
    "3.猜对或用完10次机会，游戏结束"
   ]
  },
  {
   "cell_type": "markdown",
   "metadata": {},
   "source": []
  }
 ],
 "metadata": {
  "kernelspec": {
   "display_name": "Python 3",
   "language": "python",
   "name": "python3"
  },
  "language_info": {
   "codemirror_mode": {
    "name": "ipython",
    "version": 3
   },
   "file_extension": ".py",
   "mimetype": "text/x-python",
   "name": "python",
   "nbconvert_exporter": "python",
   "pygments_lexer": "ipython3",
   "version": "3.6.1"
  }
 },
 "nbformat": 4,
 "nbformat_minor": 2
}
