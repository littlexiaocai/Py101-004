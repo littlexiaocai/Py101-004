{
 "cells": [
  {
   "cell_type": "markdown",
   "metadata": {},
   "source": [
    "### demo_3w_task说明\n",
    ".使用心知天气 API\n",
    "\n",
    ".输入城市名，查询该城市的天气；\n",
    "\n",
    ".输入 help, 获取帮助文档；\n",
    "\n",
    ".输入 history, 获取查询历史；\n",
    "\n",
    ".输入 quit, 退出天气查询系统。\n",
    "\n",
    "\n",
    "### demo_3w_task_pro说明\n",
    ".使用APIXU API；\n",
    "\n",
    ".输入城市名，国内城市输入拼音，国外城市输入英文；\n",
    "\n",
    ".输入天数，查询几天后的天气，比如，输入0，表示今天天气，输入1表示明天天气，输入2表示后天天气，最多支持9天后的天气查询；\n",
    "\n",
    ".输入 quit，退出天气查询系统。\n"
   ]
  },
  {
   "cell_type": "code",
   "execution_count": null,
   "metadata": {
    "collapsed": true
   },
   "outputs": [],
   "source": []
  }
 ],
 "metadata": {
  "kernelspec": {
   "display_name": "Python 3",
   "language": "python",
   "name": "python3"
  },
  "language_info": {
   "codemirror_mode": {
    "name": "ipython",
    "version": 3
   },
   "file_extension": ".py",
   "mimetype": "text/x-python",
   "name": "python",
   "nbconvert_exporter": "python",
   "pygments_lexer": "ipython3",
   "version": "3.6.1"
  }
 },
 "nbformat": 4,
 "nbformat_minor": 2
}
