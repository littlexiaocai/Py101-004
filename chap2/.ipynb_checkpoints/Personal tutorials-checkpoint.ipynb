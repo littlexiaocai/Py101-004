{
 "cells": [
  {
   "cell_type": "markdown",
   "metadata": {},
   "source": [
    "对比了心知天气和APIXU的API，心知天气的API并没有完全封装，还需要做进一步的处理才能用，APIXU的API拿来不需要多余的操作，就可以使用。通过这个比较进一步了解了以下的知识点：\n",
    "1. 封装的好处；\n",
    "2. super函数的使用；\n",
    "3. raise异常处理用法；\n",
    "4. unittest的使用。\n",
    "\n",
    "在学习API的时候，感受到了readme的重要性，一个写的好的readme可以节省开发者太多时间了，为了方便其他程序开发者，自己要重视readme。"
   ]
  }
 ],
 "metadata": {
  "kernelspec": {
   "display_name": "Python 3",
   "language": "python",
   "name": "python3"
  },
  "language_info": {
   "codemirror_mode": {
    "name": "ipython",
    "version": 3
   },
   "file_extension": ".py",
   "mimetype": "text/x-python",
   "name": "python",
   "nbconvert_exporter": "python",
   "pygments_lexer": "ipython3",
   "version": "3.6.1"
  }
 },
 "nbformat": 4,
 "nbformat_minor": 2
}
